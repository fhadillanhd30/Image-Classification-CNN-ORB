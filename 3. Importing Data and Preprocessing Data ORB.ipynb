{
  "nbformat": 4,
  "nbformat_minor": 0,
  "metadata": {
    "colab": {
      "provenance": [],
      "gpuType": "T4"
    },
    "kernelspec": {
      "name": "python3",
      "display_name": "Python 3"
    },
    "language_info": {
      "name": "python"
    },
    "accelerator": "GPU",
    "gpuClass": "standard"
  },
  "cells": [
    {
      "cell_type": "code",
      "source": [
        "X_train_orb = []  # Ini akan berisi fitur ORB dari gambar pelatihan\n",
        "X_test_orb = []   # Ini akan berisi fitur ORB dari gambar pengujian"
      ],
      "metadata": {
        "id": "sVkkQ0ZP2vXb"
      },
      "execution_count": null,
      "outputs": []
    },
    {
      "cell_type": "code",
      "source": [
        "from sklearn.cluster import KMeans\n",
        "\n",
        "# Inisialisasi jumlah kluster yang Anda inginkan\n",
        "n_clusters = 1  # Ganti dengan jumlah kluster yang Anda inginkan\n",
        "\n",
        "# Inisialisasi objek KMeans\n",
        "kmeans = KMeans(n_clusters=n_clusters, random_state=0)"
      ],
      "metadata": {
        "id": "QEMGMUUFuc65"
      },
      "execution_count": null,
      "outputs": []
    },
    {
      "cell_type": "code",
      "source": [
        "# Loop melalui dataset pelatihan\n",
        "for label in labels:\n",
        "    train_label_path = os.path.join(train_path, label)\n",
        "    test_label_path = os.path.join(test_path, label)\n",
        "\n",
        "    for file in os.listdir(train_label_path):\n",
        "        if file.endswith(\".jpg\"):\n",
        "            img = cv2.imread(os.path.join(train_label_path, file))\n",
        "            img = cv2.cvtColor(img, cv2.COLOR_BGR2GRAY)\n",
        "            img = cv2.resize(img, (224,224))\n",
        "            orb = cv2.ORB_create()\n",
        "            kp, des = orb.detectAndCompute(img, None)\n",
        "            if des is not None:\n",
        "                X_train_orb.append(des)\n",
        "\n",
        "    for file in os.listdir(test_label_path):\n",
        "        if file.endswith(\".jpg\"):\n",
        "            img = cv2.imread(os.path.join(test_label_path, file))\n",
        "            img = cv2.cvtColor(img, cv2.COLOR_BGR2GRAY)\n",
        "            img = cv2.resize(img, (224,224))\n",
        "            orb = cv2.ORB_create()\n",
        "            kp, des = orb.detectAndCompute(img, None)\n",
        "            if des is not None:\n",
        "                X_test_orb.append(des)\n",
        "# Menggabungkan semua fitur ORB menjadi array Numpy\n",
        "X_train_orb = np.vstack(X_train_orb)\n",
        "X_test_orb = np.vstack(X_test_orb)"
      ],
      "metadata": {
        "id": "w3o0YKitqTuj"
      },
      "execution_count": null,
      "outputs": []
    },
    {
      "cell_type": "code",
      "source": [
        "# Melakukan K-Means Clustering pada deskripsi fitur ORB\n",
        "kmeans.fit(X_train_orb)\n",
        "\n",
        "# Mendapatkan label kluster untuk data pelatihan\n",
        "train_labels = kmeans.predict(X_train_orb)\n",
        "\n",
        "# Mendapatkan label kluster untuk data pengujian\n",
        "test_labels = kmeans.predict(X_test_orb)"
      ],
      "metadata": {
        "colab": {
          "base_uri": "https://localhost:8080/"
        },
        "id": "Pzrh6-iJuo8u",
        "outputId": "f7f5ac5e-20f8-416e-a619-24e4790a3be8"
      },
      "execution_count": null,
      "outputs": [
        {
          "output_type": "stream",
          "name": "stderr",
          "text": [
            "/usr/local/lib/python3.10/dist-packages/sklearn/cluster/_kmeans.py:870: FutureWarning: The default value of `n_init` will change from 10 to 'auto' in 1.4. Set the value of `n_init` explicitly to suppress the warning\n",
            "  warnings.warn(\n"
          ]
        }
      ]
    },
    {
      "cell_type": "code",
      "source": [
        "# Cetak ukuran dari fitur ORB\n",
        "print(\"Ukuran fitur ORB pelatihan (X_train_orb):\", X_train_orb.shape)\n",
        "print(\"Ukuran fitur ORB pengujian (X_test_orb):\", X_test_orb.shape)"
      ],
      "metadata": {
        "id": "hGrynbO5OmsU",
        "outputId": "d390de1b-9a02-4b15-ddb1-5520f8e05df4",
        "colab": {
          "base_uri": "https://localhost:8080/"
        }
      },
      "execution_count": null,
      "outputs": [
        {
          "output_type": "stream",
          "name": "stdout",
          "text": [
            "Ukuran fitur ORB pelatihan (X_train_orb): (1916564, 32)\n",
            "Ukuran fitur ORB pengujian (X_test_orb): (479294, 32)\n"
          ]
        }
      ]
    },
    {
      "cell_type": "code",
      "source": [
        "# Reshape fitur ORB ke (2400, 32) dan (600, 32)\n",
        "X_train_orb = X_train_orb[:2400, :]\n",
        "X_test_orb = X_test_orb[:600, :]"
      ],
      "metadata": {
        "id": "KoGRvMqDOmos"
      },
      "execution_count": null,
      "outputs": []
    },
    {
      "cell_type": "code",
      "source": [
        "# Cetak ukuran setelah reshape\n",
        "print(\"Ukuran fitur ORB pelatihan setelah reshape (X_train_orb):\", X_train_orb.shape)\n",
        "print(\"Ukuran fitur ORB pengujian setelah reshape (X_test_orb):\", X_test_orb.shape)"
      ],
      "metadata": {
        "id": "uqgX7684Ommj",
        "outputId": "9c169ed4-005d-458a-bccf-38cd9bdd447e",
        "colab": {
          "base_uri": "https://localhost:8080/"
        }
      },
      "execution_count": null,
      "outputs": [
        {
          "output_type": "stream",
          "name": "stdout",
          "text": [
            "Ukuran fitur ORB pelatihan setelah reshape (X_train_orb): (2400, 32)\n",
            "Ukuran fitur ORB pengujian setelah reshape (X_test_orb): (600, 32)\n"
          ]
        }
      ]
    },
    {
      "cell_type": "code",
      "source": [
        "print(\"X_Train_rgb :\", X_train_rgb.shape)\n",
        "print(\"X_Test_rgb :\", X_test_rgb.shape)\n",
        "print(\"y_Train_rgb :\", y_train_rgb.shape)\n",
        "print(\"y_Test_rgb :\", y_test_rgb.shape)\n",
        "print(\"X_Train_orb :\", X_train_orb.shape)\n",
        "print(\"X_Test_orb :\", X_test_orb.shape)"
      ],
      "metadata": {
        "colab": {
          "base_uri": "https://localhost:8080/"
        },
        "id": "i72BQL1w3UiS",
        "outputId": "02939b37-52cd-43fe-958a-f3a6851ffe4c"
      },
      "execution_count": null,
      "outputs": [
        {
          "output_type": "stream",
          "name": "stdout",
          "text": [
            "X_Train_rgb : (2400, 224, 224, 3)\n",
            "X_Test_rgb : (600, 224, 224, 3)\n",
            "y_Train_rgb : (2400, 10)\n",
            "y_Test_rgb : (600, 10)\n",
            "X_Train_orb : (2400, 32)\n",
            "X_Test_orb : (600, 32)\n"
          ]
        }
      ]
    },
    {
      "cell_type": "code",
      "source": [],
      "metadata": {
        "id": "fc9GxaKSumU2"
      },
      "execution_count": null,
      "outputs": []
    }
  ]
}