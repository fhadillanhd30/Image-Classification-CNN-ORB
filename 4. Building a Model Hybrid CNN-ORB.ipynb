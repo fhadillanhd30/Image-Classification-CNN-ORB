{
  "nbformat": 4,
  "nbformat_minor": 0,
  "metadata": {
    "colab": {
      "provenance": [],
      "gpuType": "T4"
    },
    "kernelspec": {
      "name": "python3",
      "display_name": "Python 3"
    },
    "language_info": {
      "name": "python"
    },
    "accelerator": "GPU",
    "gpuClass": "standard"
  },
  "cells": [
    {
      "cell_type": "code",
      "source": [
        "# Model pertama untuk input RGB\n",
        "input_rgb = Input(shape=(224, 224, 3))  # Input dengan 3 channel (RGB)\n",
        "x_rgb = Conv2D(32, (3, 3), padding='same', activation='relu')(input_rgb)\n",
        "x_rgb = MaxPool2D(pool_size=(2, 2))(x_rgb)\n",
        "x_rgb = Conv2D(64, (3, 3), padding='same', activation='relu')(x_rgb)\n",
        "x_rgb = MaxPool2D(pool_size=(2, 2))(x_rgb)\n",
        "x_rgb = Conv2D(128, (3, 3), padding='same', activation='relu')(x_rgb)\n",
        "x_rgb = MaxPool2D(pool_size=(2, 2))(x_rgb)\n",
        "x_rgb = Conv2D(256, (3, 3), padding='same', activation='relu')(x_rgb)\n",
        "x_rgb = MaxPool2D(pool_size=(2, 2))(x_rgb)\n",
        "x_rgb = Conv2D(512, (3, 3), padding='same', activation='relu')(x_rgb)\n",
        "x_rgb = MaxPool2D(pool_size=(2, 2))(x_rgb)\n",
        "x_rgb = Conv2D(1024, (3, 3), padding='same', activation='relu')(x_rgb)\n",
        "x_rgb = MaxPool2D(pool_size=(2, 2))(x_rgb)\n",
        "x_rgb = Flatten()(x_rgb)"
      ],
      "metadata": {
        "id": "ARDE7w1KoPhM"
      },
      "execution_count": null,
      "outputs": []
    },
    {
      "cell_type": "code",
      "source": [
        "inp_orb = Input(shape=(32,))\n",
        "x_orb = Flatten()(inp_orb)\n",
        "x_orb = Dense(128, activation='linear')(x_orb)\n",
        "x_orb = Model(inputs=inp_orb, outputs=x_orb)"
      ],
      "metadata": {
        "id": "-f3i_fKXoPdo"
      },
      "execution_count": null,
      "outputs": []
    },
    {
      "cell_type": "code",
      "source": [
        "x = concatenate([x_rgb, x_orb.output])"
      ],
      "metadata": {
        "id": "_js65Wq1oPa0"
      },
      "execution_count": null,
      "outputs": []
    },
    {
      "cell_type": "code",
      "source": [
        "x = Dense(100, activation='relu')(x)\n",
        "output = Dense(10, activation='softmax')(x)"
      ],
      "metadata": {
        "id": "T_8iNh4SoPYG"
      },
      "execution_count": null,
      "outputs": []
    },
    {
      "cell_type": "code",
      "source": [
        "merged_model = Model(inputs=[input_rgb, x_orb.input], outputs=output)"
      ],
      "metadata": {
        "id": "2f25tjQtoPVT"
      },
      "execution_count": null,
      "outputs": []
    },
    {
      "cell_type": "code",
      "source": [
        "merged_model.summary()"
      ],
      "metadata": {
        "colab": {
          "base_uri": "https://localhost:8080/"
        },
        "id": "RbCxEQFToPS0",
        "outputId": "2cdce4e0-ecd6-40be-a58a-64bfe5be27d1"
      },
      "execution_count": null,
      "outputs": [
        {
          "output_type": "stream",
          "name": "stdout",
          "text": [
            "Model: \"model_1\"\n",
            "__________________________________________________________________________________________________\n",
            " Layer (type)                   Output Shape         Param #     Connected to                     \n",
            "==================================================================================================\n",
            " input_1 (InputLayer)           [(None, 224, 224, 3  0           []                               \n",
            "                                )]                                                                \n",
            "                                                                                                  \n",
            " conv2d (Conv2D)                (None, 224, 224, 32  896         ['input_1[0][0]']                \n",
            "                                )                                                                 \n",
            "                                                                                                  \n",
            " max_pooling2d (MaxPooling2D)   (None, 112, 112, 32  0           ['conv2d[0][0]']                 \n",
            "                                )                                                                 \n",
            "                                                                                                  \n",
            " conv2d_1 (Conv2D)              (None, 112, 112, 64  18496       ['max_pooling2d[0][0]']          \n",
            "                                )                                                                 \n",
            "                                                                                                  \n",
            " max_pooling2d_1 (MaxPooling2D)  (None, 56, 56, 64)  0           ['conv2d_1[0][0]']               \n",
            "                                                                                                  \n",
            " conv2d_2 (Conv2D)              (None, 56, 56, 128)  73856       ['max_pooling2d_1[0][0]']        \n",
            "                                                                                                  \n",
            " max_pooling2d_2 (MaxPooling2D)  (None, 28, 28, 128)  0          ['conv2d_2[0][0]']               \n",
            "                                                                                                  \n",
            " conv2d_3 (Conv2D)              (None, 28, 28, 256)  295168      ['max_pooling2d_2[0][0]']        \n",
            "                                                                                                  \n",
            " max_pooling2d_3 (MaxPooling2D)  (None, 14, 14, 256)  0          ['conv2d_3[0][0]']               \n",
            "                                                                                                  \n",
            " conv2d_4 (Conv2D)              (None, 14, 14, 512)  1180160     ['max_pooling2d_3[0][0]']        \n",
            "                                                                                                  \n",
            " max_pooling2d_4 (MaxPooling2D)  (None, 7, 7, 512)   0           ['conv2d_4[0][0]']               \n",
            "                                                                                                  \n",
            " conv2d_5 (Conv2D)              (None, 7, 7, 1024)   4719616     ['max_pooling2d_4[0][0]']        \n",
            "                                                                                                  \n",
            " input_2 (InputLayer)           [(None, 32)]         0           []                               \n",
            "                                                                                                  \n",
            " max_pooling2d_5 (MaxPooling2D)  (None, 3, 3, 1024)  0           ['conv2d_5[0][0]']               \n",
            "                                                                                                  \n",
            " flatten_1 (Flatten)            (None, 32)           0           ['input_2[0][0]']                \n",
            "                                                                                                  \n",
            " flatten (Flatten)              (None, 9216)         0           ['max_pooling2d_5[0][0]']        \n",
            "                                                                                                  \n",
            " dense (Dense)                  (None, 128)          4224        ['flatten_1[0][0]']              \n",
            "                                                                                                  \n",
            " concatenate (Concatenate)      (None, 9344)         0           ['flatten[0][0]',                \n",
            "                                                                  'dense[0][0]']                  \n",
            "                                                                                                  \n",
            " dense_1 (Dense)                (None, 100)          934500      ['concatenate[0][0]']            \n",
            "                                                                                                  \n",
            " dense_2 (Dense)                (None, 10)           1010        ['dense_1[0][0]']                \n",
            "                                                                                                  \n",
            "==================================================================================================\n",
            "Total params: 7,227,926\n",
            "Trainable params: 7,227,926\n",
            "Non-trainable params: 0\n",
            "__________________________________________________________________________________________________\n"
          ]
        }
      ]
    }
  ]
}