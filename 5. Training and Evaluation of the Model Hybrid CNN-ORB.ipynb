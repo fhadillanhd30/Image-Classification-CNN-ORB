{
  "nbformat": 4,
  "nbformat_minor": 0,
  "metadata": {
    "colab": {
      "provenance": [],
      "gpuType": "T4"
    },
    "kernelspec": {
      "name": "python3",
      "display_name": "Python 3"
    },
    "language_info": {
      "name": "python"
    },
    "accelerator": "GPU",
    "gpuClass": "standard"
  },
  "cells": [
    {
      "cell_type": "code",
      "source": [
        "batch_size = 60\n",
        "epochs = 50\n",
        "data_augmentation = True\n",
        "initial_lrate = 0.0001\n",
        "\n",
        "def decay(epoch, steps=100):\n",
        "  initial_lrate = 0.0001\n",
        "  drop = 0.96\n",
        "  epochs_drop = 8\n",
        "  lrate = initial_lrate * math.pow(drop, math.floor((1+epoch)/epochs_drop))\n",
        "  return lrate\n",
        "\n",
        "opt = Adam(lr=initial_lrate)\n",
        "lr_sc = LearningRateScheduler(decay, verbose=1)\n",
        "merged_model.compile(optimizer=opt,\n",
        "              loss='categorical_crossentropy',\n",
        "              metrics=['accuracy'])"
      ],
      "metadata": {
        "colab": {
          "base_uri": "https://localhost:8080/"
        },
        "id": "AeuMp7kfoPQC",
        "outputId": "cf442045-608a-44f9-bcbb-35c0c557640d"
      },
      "execution_count": null,
      "outputs": [
        {
          "output_type": "stream",
          "name": "stderr",
          "text": [
            "/usr/local/lib/python3.10/dist-packages/keras/optimizers/legacy/adam.py:117: UserWarning: The `lr` argument is deprecated, use `learning_rate` instead.\n",
            "  super().__init__(name, **kwargs)\n"
          ]
        }
      ]
    },
    {
      "cell_type": "code",
      "source": [
        "history= merged_model.fit([X_train_rgb, X_train_orb], y_train_rgb, validation_data=([X_test_rgb, X_test_orb], y_test_rgb), epochs=epochs, batch_size=batch_size, callbacks=[lr_sc])"
      ],
      "metadata": {
        "colab": {
          "base_uri": "https://localhost:8080/"
        },
        "id": "ZxRms7J8oPNc",
        "outputId": "202f896d-119e-4a2b-b774-230805ba0758"
      },
      "execution_count": null,
      "outputs": [
        {
          "output_type": "stream",
          "name": "stdout",
          "text": [
            "\n",
            "Epoch 1: LearningRateScheduler setting learning rate to 0.0001.\n",
            "Epoch 1/50\n",
            "40/40 [==============================] - 19s 160ms/step - loss: 9.1305 - accuracy: 0.0954 - val_loss: 5.7954 - val_accuracy: 0.0800 - lr: 1.0000e-04\n",
            "\n",
            "Epoch 2: LearningRateScheduler setting learning rate to 0.0001.\n",
            "Epoch 2/50\n",
            "40/40 [==============================] - 5s 135ms/step - loss: 4.7130 - accuracy: 0.1079 - val_loss: 4.2136 - val_accuracy: 0.0900 - lr: 1.0000e-04\n",
            "\n",
            "Epoch 3: LearningRateScheduler setting learning rate to 0.0001.\n",
            "Epoch 3/50\n",
            "40/40 [==============================] - 5s 128ms/step - loss: 3.6795 - accuracy: 0.1104 - val_loss: 3.5403 - val_accuracy: 0.1017 - lr: 1.0000e-04\n",
            "\n",
            "Epoch 4: LearningRateScheduler setting learning rate to 0.0001.\n",
            "Epoch 4/50\n",
            "40/40 [==============================] - 6s 150ms/step - loss: 2.9000 - accuracy: 0.1629 - val_loss: 2.6046 - val_accuracy: 0.2050 - lr: 1.0000e-04\n",
            "\n",
            "Epoch 5: LearningRateScheduler setting learning rate to 0.0001.\n",
            "Epoch 5/50\n",
            "40/40 [==============================] - 5s 130ms/step - loss: 1.9182 - accuracy: 0.3721 - val_loss: 1.5069 - val_accuracy: 0.5000 - lr: 1.0000e-04\n",
            "\n",
            "Epoch 6: LearningRateScheduler setting learning rate to 0.0001.\n",
            "Epoch 6/50\n",
            "40/40 [==============================] - 5s 136ms/step - loss: 1.0609 - accuracy: 0.6521 - val_loss: 0.9260 - val_accuracy: 0.6933 - lr: 1.0000e-04\n",
            "\n",
            "Epoch 7: LearningRateScheduler setting learning rate to 0.0001.\n",
            "Epoch 7/50\n",
            "40/40 [==============================] - 5s 136ms/step - loss: 0.6793 - accuracy: 0.7871 - val_loss: 0.7631 - val_accuracy: 0.7483 - lr: 1.0000e-04\n",
            "\n",
            "Epoch 8: LearningRateScheduler setting learning rate to 9.6e-05.\n",
            "Epoch 8/50\n",
            "40/40 [==============================] - 5s 138ms/step - loss: 0.3739 - accuracy: 0.8804 - val_loss: 0.3562 - val_accuracy: 0.9017 - lr: 9.6000e-05\n",
            "\n",
            "Epoch 9: LearningRateScheduler setting learning rate to 9.6e-05.\n",
            "Epoch 9/50\n",
            "40/40 [==============================] - 6s 140ms/step - loss: 0.1739 - accuracy: 0.9533 - val_loss: 0.2228 - val_accuracy: 0.9317 - lr: 9.6000e-05\n",
            "\n",
            "Epoch 10: LearningRateScheduler setting learning rate to 9.6e-05.\n",
            "Epoch 10/50\n",
            "40/40 [==============================] - 5s 137ms/step - loss: 0.1265 - accuracy: 0.9629 - val_loss: 0.3225 - val_accuracy: 0.8967 - lr: 9.6000e-05\n",
            "\n",
            "Epoch 11: LearningRateScheduler setting learning rate to 9.6e-05.\n",
            "Epoch 11/50\n",
            "40/40 [==============================] - 6s 140ms/step - loss: 0.0842 - accuracy: 0.9796 - val_loss: 0.2138 - val_accuracy: 0.9433 - lr: 9.6000e-05\n",
            "\n",
            "Epoch 12: LearningRateScheduler setting learning rate to 9.6e-05.\n",
            "Epoch 12/50\n",
            "40/40 [==============================] - 6s 139ms/step - loss: 0.0579 - accuracy: 0.9825 - val_loss: 0.1700 - val_accuracy: 0.9517 - lr: 9.6000e-05\n",
            "\n",
            "Epoch 13: LearningRateScheduler setting learning rate to 9.6e-05.\n",
            "Epoch 13/50\n",
            "40/40 [==============================] - 5s 137ms/step - loss: 0.0315 - accuracy: 0.9937 - val_loss: 0.1168 - val_accuracy: 0.9683 - lr: 9.6000e-05\n",
            "\n",
            "Epoch 14: LearningRateScheduler setting learning rate to 9.6e-05.\n",
            "Epoch 14/50\n",
            "40/40 [==============================] - 6s 139ms/step - loss: 0.0206 - accuracy: 0.9950 - val_loss: 0.1212 - val_accuracy: 0.9667 - lr: 9.6000e-05\n",
            "\n",
            "Epoch 15: LearningRateScheduler setting learning rate to 9.6e-05.\n",
            "Epoch 15/50\n",
            "40/40 [==============================] - 5s 130ms/step - loss: 0.0192 - accuracy: 0.9958 - val_loss: 0.1190 - val_accuracy: 0.9600 - lr: 9.6000e-05\n",
            "\n",
            "Epoch 16: LearningRateScheduler setting learning rate to 9.216e-05.\n",
            "Epoch 16/50\n",
            "40/40 [==============================] - 5s 137ms/step - loss: 0.0120 - accuracy: 0.9992 - val_loss: 0.0949 - val_accuracy: 0.9700 - lr: 9.2160e-05\n",
            "\n",
            "Epoch 17: LearningRateScheduler setting learning rate to 9.216e-05.\n",
            "Epoch 17/50\n",
            "40/40 [==============================] - 5s 135ms/step - loss: 0.0036 - accuracy: 1.0000 - val_loss: 0.0860 - val_accuracy: 0.9700 - lr: 9.2160e-05\n",
            "\n",
            "Epoch 18: LearningRateScheduler setting learning rate to 9.216e-05.\n",
            "Epoch 18/50\n",
            "40/40 [==============================] - 5s 136ms/step - loss: 0.0020 - accuracy: 1.0000 - val_loss: 0.0712 - val_accuracy: 0.9750 - lr: 9.2160e-05\n",
            "\n",
            "Epoch 19: LearningRateScheduler setting learning rate to 9.216e-05.\n",
            "Epoch 19/50\n",
            "40/40 [==============================] - 6s 140ms/step - loss: 0.0016 - accuracy: 1.0000 - val_loss: 0.0710 - val_accuracy: 0.9750 - lr: 9.2160e-05\n",
            "\n",
            "Epoch 20: LearningRateScheduler setting learning rate to 9.216e-05.\n",
            "Epoch 20/50\n",
            "40/40 [==============================] - 5s 131ms/step - loss: 0.0012 - accuracy: 1.0000 - val_loss: 0.0699 - val_accuracy: 0.9767 - lr: 9.2160e-05\n",
            "\n",
            "Epoch 21: LearningRateScheduler setting learning rate to 9.216e-05.\n",
            "Epoch 21/50\n",
            "40/40 [==============================] - 5s 137ms/step - loss: 0.0010 - accuracy: 1.0000 - val_loss: 0.0728 - val_accuracy: 0.9767 - lr: 9.2160e-05\n",
            "\n",
            "Epoch 22: LearningRateScheduler setting learning rate to 9.216e-05.\n",
            "Epoch 22/50\n",
            "40/40 [==============================] - 6s 142ms/step - loss: 9.3850e-04 - accuracy: 1.0000 - val_loss: 0.0688 - val_accuracy: 0.9767 - lr: 9.2160e-05\n",
            "\n",
            "Epoch 23: LearningRateScheduler setting learning rate to 9.216e-05.\n",
            "Epoch 23/50\n",
            "40/40 [==============================] - 5s 137ms/step - loss: 8.4419e-04 - accuracy: 1.0000 - val_loss: 0.0697 - val_accuracy: 0.9767 - lr: 9.2160e-05\n",
            "\n",
            "Epoch 24: LearningRateScheduler setting learning rate to 8.847359999999999e-05.\n",
            "Epoch 24/50\n",
            "40/40 [==============================] - 6s 140ms/step - loss: 8.1364e-04 - accuracy: 1.0000 - val_loss: 0.0690 - val_accuracy: 0.9783 - lr: 8.8474e-05\n",
            "\n",
            "Epoch 25: LearningRateScheduler setting learning rate to 8.847359999999999e-05.\n",
            "Epoch 25/50\n",
            "40/40 [==============================] - 5s 137ms/step - loss: 7.0872e-04 - accuracy: 1.0000 - val_loss: 0.0655 - val_accuracy: 0.9767 - lr: 8.8474e-05\n",
            "\n",
            "Epoch 26: LearningRateScheduler setting learning rate to 8.847359999999999e-05.\n",
            "Epoch 26/50\n",
            "40/40 [==============================] - 6s 138ms/step - loss: 6.4749e-04 - accuracy: 1.0000 - val_loss: 0.0683 - val_accuracy: 0.9750 - lr: 8.8474e-05\n",
            "\n",
            "Epoch 27: LearningRateScheduler setting learning rate to 8.847359999999999e-05.\n",
            "Epoch 27/50\n",
            "40/40 [==============================] - 5s 137ms/step - loss: 5.9439e-04 - accuracy: 1.0000 - val_loss: 0.0672 - val_accuracy: 0.9750 - lr: 8.8474e-05\n",
            "\n",
            "Epoch 28: LearningRateScheduler setting learning rate to 8.847359999999999e-05.\n",
            "Epoch 28/50\n",
            "40/40 [==============================] - 5s 133ms/step - loss: 5.5089e-04 - accuracy: 1.0000 - val_loss: 0.0678 - val_accuracy: 0.9750 - lr: 8.8474e-05\n",
            "\n",
            "Epoch 29: LearningRateScheduler setting learning rate to 8.847359999999999e-05.\n",
            "Epoch 29/50\n",
            "40/40 [==============================] - 6s 144ms/step - loss: 5.0612e-04 - accuracy: 1.0000 - val_loss: 0.0664 - val_accuracy: 0.9767 - lr: 8.8474e-05\n",
            "\n",
            "Epoch 30: LearningRateScheduler setting learning rate to 8.847359999999999e-05.\n",
            "Epoch 30/50\n",
            "40/40 [==============================] - 5s 131ms/step - loss: 4.6548e-04 - accuracy: 1.0000 - val_loss: 0.0678 - val_accuracy: 0.9800 - lr: 8.8474e-05\n",
            "\n",
            "Epoch 31: LearningRateScheduler setting learning rate to 8.847359999999999e-05.\n",
            "Epoch 31/50\n",
            "40/40 [==============================] - 5s 138ms/step - loss: 4.3485e-04 - accuracy: 1.0000 - val_loss: 0.0650 - val_accuracy: 0.9750 - lr: 8.8474e-05\n",
            "\n",
            "Epoch 32: LearningRateScheduler setting learning rate to 8.493465599999999e-05.\n",
            "Epoch 32/50\n",
            "40/40 [==============================] - 5s 137ms/step - loss: 4.1795e-04 - accuracy: 1.0000 - val_loss: 0.0652 - val_accuracy: 0.9767 - lr: 8.4935e-05\n",
            "\n",
            "Epoch 33: LearningRateScheduler setting learning rate to 8.493465599999999e-05.\n",
            "Epoch 33/50\n",
            "40/40 [==============================] - 5s 131ms/step - loss: 3.9151e-04 - accuracy: 1.0000 - val_loss: 0.0667 - val_accuracy: 0.9783 - lr: 8.4935e-05\n",
            "\n",
            "Epoch 34: LearningRateScheduler setting learning rate to 8.493465599999999e-05.\n",
            "Epoch 34/50\n",
            "40/40 [==============================] - 6s 142ms/step - loss: 3.6848e-04 - accuracy: 1.0000 - val_loss: 0.0654 - val_accuracy: 0.9783 - lr: 8.4935e-05\n",
            "\n",
            "Epoch 35: LearningRateScheduler setting learning rate to 8.493465599999999e-05.\n",
            "Epoch 35/50\n",
            "40/40 [==============================] - 5s 137ms/step - loss: 3.4593e-04 - accuracy: 1.0000 - val_loss: 0.0668 - val_accuracy: 0.9783 - lr: 8.4935e-05\n",
            "\n",
            "Epoch 36: LearningRateScheduler setting learning rate to 8.493465599999999e-05.\n",
            "Epoch 36/50\n",
            "40/40 [==============================] - 5s 137ms/step - loss: 3.2833e-04 - accuracy: 1.0000 - val_loss: 0.0639 - val_accuracy: 0.9783 - lr: 8.4935e-05\n",
            "\n",
            "Epoch 37: LearningRateScheduler setting learning rate to 8.493465599999999e-05.\n",
            "Epoch 37/50\n",
            "40/40 [==============================] - 5s 135ms/step - loss: 3.0718e-04 - accuracy: 1.0000 - val_loss: 0.0645 - val_accuracy: 0.9783 - lr: 8.4935e-05\n",
            "\n",
            "Epoch 38: LearningRateScheduler setting learning rate to 8.493465599999999e-05.\n",
            "Epoch 38/50\n",
            "40/40 [==============================] - 5s 132ms/step - loss: 2.8814e-04 - accuracy: 1.0000 - val_loss: 0.0650 - val_accuracy: 0.9783 - lr: 8.4935e-05\n",
            "\n",
            "Epoch 39: LearningRateScheduler setting learning rate to 8.493465599999999e-05.\n",
            "Epoch 39/50\n",
            "40/40 [==============================] - 6s 143ms/step - loss: 2.7251e-04 - accuracy: 1.0000 - val_loss: 0.0640 - val_accuracy: 0.9800 - lr: 8.4935e-05\n",
            "\n",
            "Epoch 40: LearningRateScheduler setting learning rate to 8.153726975999998e-05.\n",
            "Epoch 40/50\n",
            "40/40 [==============================] - 5s 131ms/step - loss: 2.6094e-04 - accuracy: 1.0000 - val_loss: 0.0619 - val_accuracy: 0.9767 - lr: 8.1537e-05\n",
            "\n",
            "Epoch 41: LearningRateScheduler setting learning rate to 8.153726975999998e-05.\n",
            "Epoch 41/50\n",
            "40/40 [==============================] - 5s 134ms/step - loss: 2.4613e-04 - accuracy: 1.0000 - val_loss: 0.0648 - val_accuracy: 0.9783 - lr: 8.1537e-05\n",
            "\n",
            "Epoch 42: LearningRateScheduler setting learning rate to 8.153726975999998e-05.\n",
            "Epoch 42/50\n",
            "40/40 [==============================] - 6s 142ms/step - loss: 2.3756e-04 - accuracy: 1.0000 - val_loss: 0.0627 - val_accuracy: 0.9783 - lr: 8.1537e-05\n",
            "\n",
            "Epoch 43: LearningRateScheduler setting learning rate to 8.153726975999998e-05.\n",
            "Epoch 43/50\n",
            "40/40 [==============================] - 5s 131ms/step - loss: 2.2542e-04 - accuracy: 1.0000 - val_loss: 0.0625 - val_accuracy: 0.9800 - lr: 8.1537e-05\n",
            "\n",
            "Epoch 44: LearningRateScheduler setting learning rate to 8.153726975999998e-05.\n",
            "Epoch 44/50\n",
            "40/40 [==============================] - 6s 142ms/step - loss: 2.1466e-04 - accuracy: 1.0000 - val_loss: 0.0620 - val_accuracy: 0.9783 - lr: 8.1537e-05\n",
            "\n",
            "Epoch 45: LearningRateScheduler setting learning rate to 8.153726975999998e-05.\n",
            "Epoch 45/50\n",
            "40/40 [==============================] - 5s 138ms/step - loss: 2.0593e-04 - accuracy: 1.0000 - val_loss: 0.0613 - val_accuracy: 0.9767 - lr: 8.1537e-05\n",
            "\n",
            "Epoch 46: LearningRateScheduler setting learning rate to 8.153726975999998e-05.\n",
            "Epoch 46/50\n",
            "40/40 [==============================] - 5s 137ms/step - loss: 2.0260e-04 - accuracy: 1.0000 - val_loss: 0.0617 - val_accuracy: 0.9783 - lr: 8.1537e-05\n",
            "\n",
            "Epoch 47: LearningRateScheduler setting learning rate to 8.153726975999998e-05.\n",
            "Epoch 47/50\n",
            "40/40 [==============================] - 6s 142ms/step - loss: 1.8821e-04 - accuracy: 1.0000 - val_loss: 0.0618 - val_accuracy: 0.9800 - lr: 8.1537e-05\n",
            "\n",
            "Epoch 48: LearningRateScheduler setting learning rate to 7.827577896959998e-05.\n",
            "Epoch 48/50\n",
            "40/40 [==============================] - 5s 137ms/step - loss: 1.8131e-04 - accuracy: 1.0000 - val_loss: 0.0616 - val_accuracy: 0.9783 - lr: 7.8276e-05\n",
            "\n",
            "Epoch 49: LearningRateScheduler setting learning rate to 7.827577896959998e-05.\n",
            "Epoch 49/50\n",
            "40/40 [==============================] - 6s 140ms/step - loss: 1.7271e-04 - accuracy: 1.0000 - val_loss: 0.0613 - val_accuracy: 0.9800 - lr: 7.8276e-05\n",
            "\n",
            "Epoch 50: LearningRateScheduler setting learning rate to 7.827577896959998e-05.\n",
            "Epoch 50/50\n",
            "40/40 [==============================] - 5s 132ms/step - loss: 1.6535e-04 - accuracy: 1.0000 - val_loss: 0.0610 - val_accuracy: 0.9800 - lr: 7.8276e-05\n"
          ]
        }
      ]
    },
    {
      "cell_type": "code",
      "source": [
        "acc = history.history['accuracy']\n",
        "val_acc = history.history['val_accuracy']\n",
        "loss = history.history['loss']\n",
        "val_loss = history.history['val_loss']\n",
        "\n",
        "epochs_range = range(50\n",
        "                    )\n",
        "\n",
        "plt.figure(figsize=(15, 15))\n",
        "plt.subplot(2, 2, 1)\n",
        "plt.plot(epochs_range, acc, label='Training Accuracy')\n",
        "plt.plot(epochs_range, val_acc, label='Validation Accuracy')\n",
        "plt.legend(loc='lower right')\n",
        "plt.title('Training and Validation Accuracy')\n",
        "\n",
        "plt.subplot(2, 2, 2)\n",
        "plt.plot(epochs_range, loss, label='Training Loss')\n",
        "plt.plot(epochs_range, val_loss, label='Validation Loss')\n",
        "plt.legend(loc='upper right')\n",
        "plt.title('Training and Validation Loss')\n",
        "plt.show()"
      ],
      "metadata": {
        "id": "ODvtd-YePXBr",
        "outputId": "9de8f383-6b35-4611-b4e3-ef9192c8ec20",
        "colab": {
          "base_uri": "https://localhost:8080/",
          "height": 372
        }
      },
      "execution_count": null,
      "outputs": [
        {
          "output_type": "display_data",
          "data": {
            "text/plain": [
              "<Figure size 1500x1500 with 2 Axes>"
            ],
            "image/png": "[encoded data removed]"
          },
          "metadata": {}
        }
      ]
    },
    {
      "cell_type": "code",
      "source": [
        "from sklearn.metrics import classification_report, confusion_matrix\n",
        "\n",
        "predictions_x=merged_model.predict([X_test_rgb,X_test_orb])\n",
        "classes_x=np.argmax(predictions_x,axis=1)\n",
        "\n",
        "y_test_rgb=np.argmax(y_test_rgb,axis=1)\n",
        "\n",
        "print(classification_report(y_test_rgb, classes_x, target_names = ['C0', 'C1', 'C2', 'C3', 'C4', 'C5', 'C6', 'C7', 'C8', 'C9']))"
      ],
      "metadata": {
        "id": "8I3S2ymrE-0M",
        "colab": {
          "base_uri": "https://localhost:8080/"
        },
        "outputId": "ba7ac734-dea6-4588-d488-b592e3adc823"
      },
      "execution_count": null,
      "outputs": [
        {
          "output_type": "stream",
          "name": "stdout",
          "text": [
            "19/19 [==============================] - 2s 55ms/step\n",
            "              precision    recall  f1-score   support\n",
            "\n",
            "          C0       0.98      0.97      0.97        60\n",
            "          C1       1.00      0.95      0.97        60\n",
            "          C2       0.98      1.00      0.99        60\n",
            "          C3       0.98      0.97      0.97        60\n",
            "          C4       0.94      0.98      0.96        60\n",
            "          C5       0.97      0.97      0.97        60\n",
            "          C6       1.00      1.00      1.00        60\n",
            "          C7       1.00      1.00      1.00        60\n",
            "          C8       0.97      0.97      0.97        60\n",
            "          C9       0.98      1.00      0.99        60\n",
            "\n",
            "    accuracy                           0.98       600\n",
            "   macro avg       0.98      0.98      0.98       600\n",
            "weighted avg       0.98      0.98      0.98       600\n",
            "\n"
          ]
        }
      ]
    },
    {
      "cell_type": "code",
      "source": [
        "cm = confusion_matrix(y_test_rgb, classes_x)\n",
        "cm"
      ],
      "metadata": {
        "id": "yt_acq4uF-Sw",
        "colab": {
          "base_uri": "https://localhost:8080/"
        },
        "outputId": "af03a618-4511-4463-db77-8db163c592ec"
      },
      "execution_count": null,
      "outputs": [
        {
          "output_type": "execute_result",
          "data": {
            "text/plain": [
              "array([[58,  0,  0,  0,  0,  1,  0,  0,  1,  0],\n",
              "       [ 1, 57,  0,  1,  1,  0,  0,  0,  0,  0],\n",
              "       [ 0,  0, 60,  0,  0,  0,  0,  0,  0,  0],\n",
              "       [ 0,  0,  0, 58,  1,  0,  0,  0,  1,  0],\n",
              "       [ 0,  0,  0,  0, 59,  1,  0,  0,  0,  0],\n",
              "       [ 0,  0,  0,  0,  1, 58,  0,  0,  0,  1],\n",
              "       [ 0,  0,  0,  0,  0,  0, 60,  0,  0,  0],\n",
              "       [ 0,  0,  0,  0,  0,  0,  0, 60,  0,  0],\n",
              "       [ 0,  0,  1,  0,  1,  0,  0,  0, 58,  0],\n",
              "       [ 0,  0,  0,  0,  0,  0,  0,  0,  0, 60]])"
            ]
          },
          "metadata": {},
          "execution_count": 34
        }
      ]
    },
    {
      "cell_type": "code",
      "source": [
        "# Mendapatkan nilai akurasi pelatihan dan pengujian (testing)\n",
        "train_accuracy = history.history['accuracy']\n",
        "test_accuracy = history.history['val_accuracy']\n",
        "\n",
        "# Mencetak nilai akurasi pelatihan dan pengujian (testing)\n",
        "print(\"Train Accuracy:\", train_accuracy[-1])\n",
        "print(\"Test Accuracy:\", test_accuracy[-1])"
      ],
      "metadata": {
        "id": "nAUR9aScF_5M",
        "colab": {
          "base_uri": "https://localhost:8080/"
        },
        "outputId": "092140cf-db4b-4295-9205-d090816aadbc"
      },
      "execution_count": null,
      "outputs": [
        {
          "output_type": "stream",
          "name": "stdout",
          "text": [
            "Train Accuracy: 1.0\n",
            "Test Accuracy: 0.9750000238418579\n"
          ]
        }
      ]
    },
    {
      "cell_type": "code",
      "source": [],
      "metadata": {
        "id": "fc9GxaKSumU2"
      },
      "execution_count": null,
      "outputs": []
    }
  ]
}